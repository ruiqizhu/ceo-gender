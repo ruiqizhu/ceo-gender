{
 "cells": [
  {
   "cell_type": "code",
   "execution_count": 7,
   "metadata": {},
   "outputs": [
    {
     "name": "stderr",
     "output_type": "stream",
     "text": [
      "[nltk_data] Downloading package stopwords to /Users/rich/nltk_data...\n",
      "[nltk_data]   Package stopwords is already up-to-date!\n"
     ]
    }
   ],
   "source": [
    "import pandas as pd\n",
    "import numpy as np\n",
    "from numpy import loadtxt\n",
    "from keras.models import Sequential\n",
    "from keras.layers import Dense\n",
    "import os\n",
    "import xgboost as xgb\n",
    "from sklearn.metrics import mean_squared_error\n",
    "from sklearn.model_selection import train_test_split\n",
    "import gensim\n",
    "from gensim.utils import simple_preprocess\n",
    "import nltk\n",
    "nltk.download('stopwords')\n",
    "from nltk.corpus import stopwords\n",
    "import re"
   ]
  },
  {
   "cell_type": "code",
   "execution_count": 8,
   "metadata": {},
   "outputs": [],
   "source": [
    "def cleantxt(txt):\n",
    "    \"\"\"\n",
    "    Cleans the string passed. Cleaning Includes-\n",
    "    1. remove special characters/symbols\n",
    "    2. convert text to lower-case\n",
    "    3. retain only alphabets\n",
    "    4. remove words less than 3 characters\n",
    "    5. remove stop-words\n",
    "    \"\"\"  \n",
    "    # collecting english stop words from nltk-library\n",
    "    stpw = stopwords.words('english')\n",
    "    \n",
    "    # Adding custom stop-words\n",
    "    stpw.extend(['www','http','utc'])\n",
    "    stpw = set(stpw)\n",
    "    \n",
    "    # using regex to clean the text\n",
    "    txt = re.sub(r\"\\n\", \" \", txt)\n",
    "    txt = re.sub(\"[\\<\\[].*?[\\>\\]]\", \" \", txt)\n",
    "    txt = txt.lower()\n",
    "    txt = re.sub(r\"[^a-z ]\", \" \", txt)\n",
    "    txt = re.sub(r\"\\b\\w{1,3}\\b\", \" \",txt)\n",
    "    txt = \" \".join([x for x in txt.split() if x not in stpw])\n",
    "    return txt\n"
   ]
  },
  {
   "cell_type": "code",
   "execution_count": 9,
   "metadata": {},
   "outputs": [
    {
     "name": "stdout",
     "output_type": "stream",
     "text": [
      "(1030, 39)\n"
     ]
    }
   ],
   "source": [
    "# create an array with (CIK: strategy text)\n",
    "corpus_dict = dict()\n",
    "raw_strategy = [] # list of strategy text\n",
    "ncols = 0\n",
    "with open(\"ceo_gender_training.csv\") as f:\n",
    "    ncols = len(f.readline().split(','))\n",
    "ceo_data = pd.read_csv(\"ceo_gender_training.csv\")\n",
    "ceo_data.rename(columns={ceo_data.columns[0]: \"pid\" }, inplace = True)\n",
    "ceo_data['has_file'] = 0\n",
    "company_doc = []\n",
    "for index, row in ceo_data.iterrows():\n",
    "    folder_path = row['folder_path']\n",
    "    QTR = folder_path.split(\"\\\\\")[0]\n",
    "    CIK = folder_path.split(\"\\\\\")[1]\n",
    "    try:\n",
    "        f1 = open(QTR + \"/\" + CIK + \"/\" + \"business-section.txt\", \"r\")\n",
    "        business = f1.read()\n",
    "        f2 = open(QTR + \"/\" + CIK + \"/\" + \"risk-factors-section.txt\", \"r\")\n",
    "        risk = f2.read()\n",
    "        strategy = business + risk\n",
    "        ceo_data.at[index,'has_file'] = 1\n",
    "        clean_strategy = cleantxt(strategy)\n",
    "        corpus_dict[CIK] = clean_strategy\n",
    "        raw_strategy.append(clean_strategy)\n",
    "    except FileNotFoundError:\n",
    "        ceo_data.at[index,'has_file'] = 0\n",
    "\n",
    "ceo_data['has_file'].unique()\n",
    "# consider only rows with the file data\n",
    "ceo_data2 = ceo_data.loc[ceo_data['has_file'] == 1].reset_index()\n",
    "print(ceo_data2.shape)"
   ]
  },
  {
   "cell_type": "code",
   "execution_count": 12,
   "metadata": {},
   "outputs": [
    {
     "name": "stdout",
     "output_type": "stream",
     "text": [
      "['form', 'summary', 'signatures', 'table', 'contents', 'item', 'business', 'general', 'believe', 'world', 'largest', 'provider', 'health', 'care', 'products', 'services', 'primarily', 'office', 'based', 'dental', 'medical', 'practitioners', 'serve', 'million', 'customers', 'worldwide', 'including', 'dental', 'practitioners', 'laboratories']\n"
     ]
    }
   ],
   "source": [
    "# Prepare text for LDA analysis\n",
    "strategy = pd.DataFrame(raw_strategy, columns =['text_processed']) \n",
    "\n",
    "stop_words = stopwords.words('english')\n",
    "stop_words.extend(['from', 'subject', 're', 'edu', 'use', 'part', 'ii'])\n",
    "\n",
    "def sent_to_words(sentences):\n",
    "    for sentence in sentences:\n",
    "        # deacc=True removes punctuations\n",
    "        yield(gensim.utils.simple_preprocess(str(sentence), deacc=True))\n",
    "\n",
    "def remove_stopwords(texts):\n",
    "    return [[word for word in simple_preprocess(str(doc)) \n",
    "             if word not in stop_words] for doc in texts]\n",
    "\n",
    "\n",
    "data = strategy.text_processed.values.tolist()\n",
    "data_words = list(sent_to_words(data))\n",
    "\n",
    "# remove stop words\n",
    "data_words = remove_stopwords(data_words)\n",
    "\n",
    "print(data_words[:1][0][:30])"
   ]
  },
  {
   "cell_type": "code",
   "execution_count": 13,
   "metadata": {},
   "outputs": [
    {
     "name": "stdout",
     "output_type": "stream",
     "text": [
      "[(0, 3), (1, 1), (2, 28), (3, 10), (4, 1), (5, 1), (6, 1), (7, 2), (8, 16), (9, 1), (10, 3), (11, 5), (12, 1), (13, 10), (14, 1), (15, 4), (16, 1), (17, 5), (18, 1), (19, 2), (20, 1), (21, 3), (22, 1), (23, 1), (24, 5), (25, 4), (26, 2), (27, 1), (28, 4), (29, 2)]\n"
     ]
    }
   ],
   "source": [
    "import gensim.corpora as corpora\n",
    "\n",
    "# Create Dictionary\n",
    "id2word = corpora.Dictionary(data_words)\n",
    "\n",
    "# Create Corpus\n",
    "texts = data_words\n",
    "\n",
    "# Term Document Frequency\n",
    "corpus = [id2word.doc2bow(text) for text in texts]\n",
    "\n",
    "# View\n",
    "print(corpus[:1][0][:30])"
   ]
  },
  {
   "cell_type": "code",
   "execution_count": null,
   "metadata": {},
   "outputs": [],
   "source": [
    "from pprint import pprint\n",
    "\n",
    "# number of topics\n",
    "num_topics = 7\n",
    "\n",
    "# Build LDA model\n",
    "lda_model = gensim.models.LdaMulticore(corpus=corpus,\n",
    "                                       id2word=id2word,\n",
    "                                       num_topics=num_topics)\n",
    "\n",
    "# Print the Keyword in the 10 topics\n",
    "pprint(lda_model.print_topics())\n",
    "doc_lda = lda_model[corpus]"
   ]
  },
  {
   "cell_type": "code",
   "execution_count": null,
   "metadata": {},
   "outputs": [],
   "source": []
  }
 ],
 "metadata": {
  "kernelspec": {
   "display_name": "Python 3",
   "language": "python",
   "name": "python3"
  },
  "language_info": {
   "codemirror_mode": {
    "name": "ipython",
    "version": 3
   },
   "file_extension": ".py",
   "mimetype": "text/x-python",
   "name": "python",
   "nbconvert_exporter": "python",
   "pygments_lexer": "ipython3",
   "version": "3.8.5"
  }
 },
 "nbformat": 4,
 "nbformat_minor": 4
}
