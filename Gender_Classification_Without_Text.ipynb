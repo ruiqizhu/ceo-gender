{
 "cells": [
  {
   "cell_type": "markdown",
   "metadata": {},
   "source": [
    "### Gender Classification"
   ]
  },
  {
   "cell_type": "code",
   "execution_count": 6,
   "metadata": {},
   "outputs": [],
   "source": [
    "import pandas as pd\n",
    "import numpy as np\n",
    "from numpy import loadtxt\n",
    "from keras.models import Sequential\n",
    "from keras.layers import Dense\n",
    "import os\n",
    "import xgboost as xgb\n",
    "from sklearn.metrics import mean_squared_error\n",
    "from sklearn.model_selection import train_test_split"
   ]
  },
  {
   "cell_type": "code",
   "execution_count": 7,
   "metadata": {},
   "outputs": [
    {
     "name": "stdout",
     "output_type": "stream",
     "text": [
      "['QTR2', 'QTR4', 'QTR3', 'header_info.xlsx', '.DS_Store', 'ML_Model_with_Text.ipynb', 'LDA_Topic_Modeling.ipynb', 'QTR1', 'ML_Model_Stock_Return.ipynb', '.ipynb_checkpoints', 'Gender_Classification_Without_Text.ipynb', 'ceo_gender_training.csv']\n"
     ]
    },
    {
     "data": {
      "text/plain": [
       "at                float64\n",
       "lt                float64\n",
       "che               float64\n",
       "ni                float64\n",
       "sale              float64\n",
       "execrank          float64\n",
       "exchange_id         int64\n",
       "state_id            int64\n",
       "days_becameceo    float64\n",
       "zip                 int64\n",
       "FF_48               int64\n",
       "shrout_0220       float64\n",
       "ret_0220_0325     float64\n",
       "gender_id           int64\n",
       "dtype: object"
      ]
     },
     "execution_count": 7,
     "metadata": {},
     "output_type": "execute_result"
    }
   ],
   "source": [
    "# Read the data\n",
    "print(os.listdir())\n",
    "ncols = 0\n",
    "with open(\"ceo_gender_training.csv\") as f:\n",
    "    ncols = len(f.readline().split(','))\n",
    "ceo_data = pd.read_csv(\"ceo_gender_training.csv\")\n",
    "ceo_data.rename(columns={ceo_data.columns[0]: \"pid\" }, inplace = True)\n",
    "ceo_data_small = ceo_data[[\"at\", \"lt\", \"che\", \"ni\", \"sale\", \"execrank\", \"exchange_id\", \n",
    "                           \"state_id\", \"days_becameceo\", \"zip\", \"FF_48\", \"shrout_0220\", \"ret_0220_0325\", \"gender_id\"]]\n",
    "ceo_data_small.dtypes"
   ]
  },
  {
   "cell_type": "code",
   "execution_count": 8,
   "metadata": {},
   "outputs": [
    {
     "name": "stdout",
     "output_type": "stream",
     "text": [
      "[1. 1. 1. ... 1. 1. 1.]\n"
     ]
    }
   ],
   "source": [
    "data = np.array(ceo_data_small)\n",
    "data = data[~np.isnan(data).any(axis=1)]\n",
    "X = data[:,0:13]\n",
    "y = data[:,13]\n",
    "print(y)"
   ]
  },
  {
   "cell_type": "code",
   "execution_count": 9,
   "metadata": {},
   "outputs": [
    {
     "name": "stderr",
     "output_type": "stream",
     "text": [
      "/opt/anaconda3/lib/python3.8/site-packages/sklearn/linear_model/_logistic.py:762: ConvergenceWarning: lbfgs failed to converge (status=1):\n",
      "STOP: TOTAL NO. of ITERATIONS REACHED LIMIT.\n",
      "\n",
      "Increase the number of iterations (max_iter) or scale the data as shown in:\n",
      "    https://scikit-learn.org/stable/modules/preprocessing.html\n",
      "Please also refer to the documentation for alternative solver options:\n",
      "    https://scikit-learn.org/stable/modules/linear_model.html#logistic-regression\n",
      "  n_iter_i = _check_optimize_result(\n"
     ]
    },
    {
     "data": {
      "text/plain": [
       "LogisticRegression()"
      ]
     },
     "execution_count": 9,
     "metadata": {},
     "output_type": "execute_result"
    }
   ],
   "source": [
    "from sklearn.linear_model import LogisticRegression\n",
    "from sklearn import metrics\n",
    "X_train, X_test, y_train, y_test = train_test_split(X, y, test_size=0.3, random_state=0)\n",
    "logreg = LogisticRegression()\n",
    "logreg.fit(X_train, y_train)"
   ]
  },
  {
   "cell_type": "code",
   "execution_count": 10,
   "metadata": {},
   "outputs": [
    {
     "name": "stdout",
     "output_type": "stream",
     "text": [
      "Accuracy of logistic regression classifier on test set: 0.93\n"
     ]
    }
   ],
   "source": [
    "y_pred = logreg.predict(X_test)\n",
    "print('Accuracy of logistic regression classifier on test set: {:.2f}'.format(logreg.score(X_test, y_test)))"
   ]
  },
  {
   "cell_type": "code",
   "execution_count": null,
   "metadata": {},
   "outputs": [],
   "source": []
  }
 ],
 "metadata": {
  "kernelspec": {
   "display_name": "Python 3",
   "language": "python",
   "name": "python3"
  },
  "language_info": {
   "codemirror_mode": {
    "name": "ipython",
    "version": 3
   },
   "file_extension": ".py",
   "mimetype": "text/x-python",
   "name": "python",
   "nbconvert_exporter": "python",
   "pygments_lexer": "ipython3",
   "version": "3.8.5"
  }
 },
 "nbformat": 4,
 "nbformat_minor": 4
}
