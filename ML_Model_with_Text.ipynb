{
 "cells": [
  {
   "cell_type": "markdown",
   "metadata": {},
   "source": [
    "### ML Model for Stock Return Prediction\n",
    "Using Richard's ceo_gender_file\n",
    "Incorporates text info with bag of words embedding"
   ]
  },
  {
   "cell_type": "code",
   "execution_count": 1,
   "metadata": {},
   "outputs": [],
   "source": [
    "import pandas as pd\n",
    "import numpy as np\n",
    "from numpy import loadtxt\n",
    "import keras\n",
    "from keras.models import Sequential\n",
    "from keras.layers import Dense\n",
    "import os\n",
    "import xgboost as xgb\n",
    "from sklearn.metrics import mean_squared_error\n",
    "from sklearn.model_selection import train_test_split\n",
    "from nltk.corpus import stopwords\n",
    "import re\n",
    "from sklearn.feature_extraction.text import CountVectorizer\n",
    "import gensim\n",
    "import nltk\n",
    "import string\n",
    "from sklearn.preprocessing import LabelEncoder, StandardScaler\n",
    "from sklearn.decomposition import PCA\n",
    "import matplotlib.pyplot as plt\n",
    "from sklearn.feature_extraction.text import TfidfVectorizer"
   ]
  },
  {
   "cell_type": "code",
   "execution_count": 2,
   "metadata": {},
   "outputs": [],
   "source": [
    "def cleantxt(txt):\n",
    "    \"\"\"\n",
    "    Cleans the string passed. Cleaning Includes-\n",
    "    1. remove special characters/symbols\n",
    "    2. convert text to lower-case\n",
    "    3. retain only alphabets\n",
    "    4. remove words less than 3 characters\n",
    "    5. remove stop-words\n",
    "    \"\"\"  \n",
    "    # collecting english stop words from nltk-library\n",
    "    stpw = stopwords.words('english')\n",
    "    \n",
    "    # Adding custom stop-words\n",
    "    stpw.extend(['www','http','utc'])\n",
    "    stpw = set(stpw)\n",
    "    \n",
    "    # using regex to clean the text\n",
    "    txt = re.sub(r\"\\n\", \" \", txt)\n",
    "    txt = re.sub(\"[\\<\\[].*?[\\>\\]]\", \" \", txt)\n",
    "    txt = txt.lower()\n",
    "    txt = re.sub(r\"[^a-z ]\", \" \", txt)\n",
    "    txt = re.sub(r\"\\b\\w{1,3}\\b\", \" \",txt)\n",
    "    txt = \" \".join([x for x in txt.split() if x not in stpw])\n",
    "    return txt\n"
   ]
  },
  {
   "cell_type": "code",
   "execution_count": 3,
   "metadata": {},
   "outputs": [
    {
     "name": "stdout",
     "output_type": "stream",
     "text": [
      "(1030, 39)\n"
     ]
    }
   ],
   "source": [
    "# create an array with (CIK: strategy text)\n",
    "corpus_dict = dict()\n",
    "corpus = [] # list of strategy text\n",
    "ncols = 0\n",
    "with open(\"ceo_gender_training.csv\") as f:\n",
    "    ncols = len(f.readline().split(','))\n",
    "ceo_data = pd.read_csv(\"ceo_gender_training.csv\")\n",
    "ceo_data.rename(columns={ceo_data.columns[0]: \"pid\" }, inplace = True)\n",
    "ceo_data['has_file'] = 0\n",
    "company_doc = []\n",
    "for index, row in ceo_data.iterrows():\n",
    "    folder_path = row['folder_path']\n",
    "    QTR = folder_path.split(\"\\\\\")[0]\n",
    "    CIK = folder_path.split(\"\\\\\")[1]\n",
    "    try:\n",
    "        f1 = open(QTR + \"/\" + CIK + \"/\" + \"business-section.txt\", \"r\")\n",
    "        business = f1.read()\n",
    "        f2 = open(QTR + \"/\" + CIK + \"/\" + \"risk-factors-section.txt\", \"r\")\n",
    "        risk = f2.read()\n",
    "        strategy = business + risk\n",
    "        ceo_data.at[index,'has_file'] = 1\n",
    "        clean_strategy = cleantxt(strategy)\n",
    "        corpus_dict[CIK] = clean_strategy\n",
    "        corpus.append(clean_strategy)\n",
    "    except FileNotFoundError:\n",
    "        ceo_data.at[index,'has_file'] = 0\n",
    "\n",
    "ceo_data['has_file'].unique()\n",
    "# consider only rows with the file data\n",
    "ceo_data2 = ceo_data.loc[ceo_data['has_file'] == 1].reset_index()\n",
    "print(ceo_data2.shape)"
   ]
  },
  {
   "cell_type": "code",
   "execution_count": 4,
   "metadata": {},
   "outputs": [
    {
     "name": "stdout",
     "output_type": "stream",
     "text": [
      "(1030, 60443)\n"
     ]
    }
   ],
   "source": [
    "# creates vector embedding for the text using bag of words\n",
    "vectorizer = CountVectorizer()\n",
    "vectors = vectorizer.fit_transform(corpus)\n",
    "vectors = vectors.todense()\n",
    "print(vectors.shape)"
   ]
  },
  {
   "cell_type": "code",
   "execution_count": 5,
   "metadata": {},
   "outputs": [
    {
     "name": "stdout",
     "output_type": "stream",
     "text": [
      "(1030, 60443)\n"
     ]
    }
   ],
   "source": [
    "# creates vector embedding for the text using TF-IDF\n",
    "tfidf  = TfidfVectorizer()\n",
    "vectors = tfidf.fit_transform(corpus)\n",
    "vectors = vectors.todense()\n",
    "print(vectors.shape)"
   ]
  },
  {
   "cell_type": "code",
   "execution_count": 103,
   "metadata": {},
   "outputs": [
    {
     "name": "stdout",
     "output_type": "stream",
     "text": [
      "(1030, 60443)\n"
     ]
    }
   ],
   "source": [
    "from sklearn.preprocessing import Binarizer\n",
    "# creates vector embedding using one-hot encoding\n",
    "freq   = CountVectorizer()\n",
    "corpus2 = freq.fit_transform(corpus)\n",
    "\n",
    "onehot = Binarizer()\n",
    "vectors = onehot.fit_transform(corpus2.toarray())\n",
    "print(vectors.shape)"
   ]
  },
  {
   "cell_type": "code",
   "execution_count": 86,
   "metadata": {},
   "outputs": [
    {
     "name": "stdout",
     "output_type": "stream",
     "text": [
      "[[0 0 0 ... 0 0 0]\n",
      " [0 0 0 ... 0 0 0]\n",
      " [0 0 0 ... 0 0 0]\n",
      " ...\n",
      " [0 0 0 ... 0 0 0]\n",
      " [0 0 0 ... 0 0 0]\n",
      " [0 0 0 ... 0 0 0]]\n"
     ]
    }
   ],
   "source": [
    "print(vectors)"
   ]
  },
  {
   "cell_type": "code",
   "execution_count": 6,
   "metadata": {},
   "outputs": [
    {
     "name": "stdout",
     "output_type": "stream",
     "text": [
      "(777, 60456)\n"
     ]
    }
   ],
   "source": [
    "ceo_data_small = ceo_data2[[\"ret_0220_0325\", \"at\", \"lt\", \"che\", \"ni\", \"sale\", \"execrank\", \"exchange_id\", \n",
    "                           \"gender_id\", \"state_id\", \"days_becameceo\", \"zip\", \"FF_48\", \"shrout_0220\"]]\n",
    "pd_vectors = pd.DataFrame(vectors)\n",
    "X_combined = pd.concat([ceo_data_small, pd_vectors], axis=1)\n",
    "X_combined = X_combined.dropna()\n",
    "X = X_combined.iloc[:,1:]\n",
    "y = X_combined.iloc[:,0]\n",
    "# split trian and test dataset\n",
    "X_train, X_test, y_train, y_test = train_test_split(X, y, test_size=0.2, random_state=123)\n",
    "print(X_train.shape)"
   ]
  },
  {
   "cell_type": "code",
   "execution_count": 7,
   "metadata": {},
   "outputs": [
    {
     "name": "stdout",
     "output_type": "stream",
     "text": [
      "Epoch 1/150\n",
      "78/78 [==============================] - 1s 3ms/step - loss: 0.1409 - mean_squared_error: 0.1409\n",
      "Epoch 2/150\n",
      "78/78 [==============================] - 0s 3ms/step - loss: 0.1412 - mean_squared_error: 0.1412\n",
      "Epoch 3/150\n",
      "78/78 [==============================] - 0s 3ms/step - loss: 0.1460 - mean_squared_error: 0.1460\n",
      "Epoch 4/150\n",
      "78/78 [==============================] - 0s 3ms/step - loss: 0.1420 - mean_squared_error: 0.1420\n",
      "Epoch 5/150\n",
      "78/78 [==============================] - 0s 3ms/step - loss: 0.1422 - mean_squared_error: 0.1422\n",
      "Epoch 6/150\n",
      "78/78 [==============================] - 0s 3ms/step - loss: 0.1479 - mean_squared_error: 0.1479\n",
      "Epoch 7/150\n",
      "78/78 [==============================] - 0s 3ms/step - loss: 0.1455 - mean_squared_error: 0.1455\n",
      "Epoch 8/150\n",
      "78/78 [==============================] - 0s 3ms/step - loss: 0.1384 - mean_squared_error: 0.1384\n",
      "Epoch 9/150\n",
      "78/78 [==============================] - 0s 3ms/step - loss: 0.1379 - mean_squared_error: 0.1379\n",
      "Epoch 10/150\n",
      "78/78 [==============================] - 0s 3ms/step - loss: 0.1421 - mean_squared_error: 0.1421\n",
      "Epoch 11/150\n",
      "78/78 [==============================] - 0s 3ms/step - loss: 0.1381 - mean_squared_error: 0.1381\n",
      "Epoch 12/150\n",
      "78/78 [==============================] - 0s 3ms/step - loss: 0.1342 - mean_squared_error: 0.1342\n",
      "Epoch 13/150\n",
      "78/78 [==============================] - 0s 3ms/step - loss: 0.1458 - mean_squared_error: 0.1458\n",
      "Epoch 14/150\n",
      "78/78 [==============================] - 0s 3ms/step - loss: 0.1418 - mean_squared_error: 0.1418\n",
      "Epoch 15/150\n",
      "78/78 [==============================] - 0s 3ms/step - loss: 0.1366 - mean_squared_error: 0.1366\n",
      "Epoch 16/150\n",
      "78/78 [==============================] - 0s 3ms/step - loss: 0.1461 - mean_squared_error: 0.1461\n",
      "Epoch 17/150\n",
      "78/78 [==============================] - 0s 3ms/step - loss: 0.1334 - mean_squared_error: 0.1334\n",
      "Epoch 18/150\n",
      "78/78 [==============================] - 0s 3ms/step - loss: 0.1425 - mean_squared_error: 0.1425\n",
      "Epoch 19/150\n",
      "78/78 [==============================] - 0s 3ms/step - loss: 0.1366 - mean_squared_error: 0.1366\n",
      "Epoch 20/150\n",
      "78/78 [==============================] - 0s 3ms/step - loss: 0.1361 - mean_squared_error: 0.1361\n",
      "Epoch 21/150\n",
      "78/78 [==============================] - 0s 3ms/step - loss: 0.1429 - mean_squared_error: 0.1429\n",
      "Epoch 22/150\n",
      "78/78 [==============================] - 0s 3ms/step - loss: 0.1442 - mean_squared_error: 0.1442\n",
      "Epoch 23/150\n",
      "78/78 [==============================] - 0s 3ms/step - loss: 0.1399 - mean_squared_error: 0.1399\n",
      "Epoch 24/150\n",
      "78/78 [==============================] - 0s 3ms/step - loss: 0.1384 - mean_squared_error: 0.1384\n",
      "Epoch 25/150\n",
      "78/78 [==============================] - 0s 3ms/step - loss: 0.1342 - mean_squared_error: 0.1342\n",
      "Epoch 26/150\n",
      "78/78 [==============================] - 0s 3ms/step - loss: 0.1304 - mean_squared_error: 0.1304\n",
      "Epoch 27/150\n",
      "78/78 [==============================] - 0s 3ms/step - loss: 0.1433 - mean_squared_error: 0.1433\n",
      "Epoch 28/150\n",
      "78/78 [==============================] - 0s 3ms/step - loss: 0.1400 - mean_squared_error: 0.1400\n",
      "Epoch 29/150\n",
      "78/78 [==============================] - 0s 3ms/step - loss: 0.1452 - mean_squared_error: 0.1452\n",
      "Epoch 30/150\n",
      "78/78 [==============================] - 0s 3ms/step - loss: 0.1367 - mean_squared_error: 0.1367\n",
      "Epoch 31/150\n",
      "78/78 [==============================] - 0s 3ms/step - loss: 0.1415 - mean_squared_error: 0.1415\n",
      "Epoch 32/150\n",
      "78/78 [==============================] - 0s 3ms/step - loss: 0.1437 - mean_squared_error: 0.1437\n",
      "Epoch 33/150\n",
      "78/78 [==============================] - 0s 3ms/step - loss: 0.1405 - mean_squared_error: 0.1405\n",
      "Epoch 34/150\n",
      "78/78 [==============================] - 0s 3ms/step - loss: 0.1418 - mean_squared_error: 0.1418\n",
      "Epoch 35/150\n",
      "78/78 [==============================] - 0s 3ms/step - loss: 0.1455 - mean_squared_error: 0.1455\n",
      "Epoch 36/150\n",
      "78/78 [==============================] - 0s 3ms/step - loss: 0.1442 - mean_squared_error: 0.1442\n",
      "Epoch 37/150\n",
      "78/78 [==============================] - 0s 3ms/step - loss: 0.1369 - mean_squared_error: 0.1369\n",
      "Epoch 38/150\n",
      "78/78 [==============================] - 0s 3ms/step - loss: 0.1430 - mean_squared_error: 0.1430\n",
      "Epoch 39/150\n",
      "78/78 [==============================] - 0s 3ms/step - loss: 0.1389 - mean_squared_error: 0.1389\n",
      "Epoch 40/150\n",
      "78/78 [==============================] - 0s 3ms/step - loss: 0.1423 - mean_squared_error: 0.1423\n",
      "Epoch 41/150\n",
      "78/78 [==============================] - 0s 3ms/step - loss: 0.1325 - mean_squared_error: 0.1325\n",
      "Epoch 42/150\n",
      "78/78 [==============================] - 0s 3ms/step - loss: 0.1349 - mean_squared_error: 0.1349\n",
      "Epoch 43/150\n",
      "78/78 [==============================] - 0s 3ms/step - loss: 0.1431 - mean_squared_error: 0.1431\n",
      "Epoch 44/150\n",
      "78/78 [==============================] - 0s 3ms/step - loss: 0.1389 - mean_squared_error: 0.1389\n",
      "Epoch 45/150\n",
      "78/78 [==============================] - 0s 3ms/step - loss: 0.1325 - mean_squared_error: 0.1325\n",
      "Epoch 46/150\n",
      "78/78 [==============================] - 0s 3ms/step - loss: 0.1479 - mean_squared_error: 0.1479\n",
      "Epoch 47/150\n",
      "78/78 [==============================] - 0s 3ms/step - loss: 0.1364 - mean_squared_error: 0.1364\n",
      "Epoch 48/150\n",
      "78/78 [==============================] - 0s 3ms/step - loss: 0.1488 - mean_squared_error: 0.1488\n",
      "Epoch 49/150\n",
      "78/78 [==============================] - 0s 3ms/step - loss: 0.1397 - mean_squared_error: 0.1397\n",
      "Epoch 50/150\n",
      "78/78 [==============================] - 0s 3ms/step - loss: 0.1460 - mean_squared_error: 0.1460\n",
      "Epoch 51/150\n",
      "78/78 [==============================] - 0s 3ms/step - loss: 0.1382 - mean_squared_error: 0.1382\n",
      "Epoch 52/150\n",
      "78/78 [==============================] - 0s 3ms/step - loss: 0.1371 - mean_squared_error: 0.1371\n",
      "Epoch 53/150\n",
      "78/78 [==============================] - 0s 3ms/step - loss: 0.1449 - mean_squared_error: 0.1449\n",
      "Epoch 54/150\n",
      "78/78 [==============================] - 0s 3ms/step - loss: 0.1419 - mean_squared_error: 0.1419\n",
      "Epoch 55/150\n",
      "78/78 [==============================] - 0s 3ms/step - loss: 0.1467 - mean_squared_error: 0.1467\n",
      "Epoch 56/150\n",
      "78/78 [==============================] - 0s 3ms/step - loss: 0.1419 - mean_squared_error: 0.1419\n",
      "Epoch 57/150\n",
      "78/78 [==============================] - 0s 3ms/step - loss: 0.1421 - mean_squared_error: 0.1421\n",
      "Epoch 58/150\n",
      "78/78 [==============================] - 0s 3ms/step - loss: 0.1400 - mean_squared_error: 0.1400\n",
      "Epoch 59/150\n",
      "78/78 [==============================] - 0s 3ms/step - loss: 0.1409 - mean_squared_error: 0.1409\n",
      "Epoch 60/150\n",
      "78/78 [==============================] - 0s 3ms/step - loss: 0.1345 - mean_squared_error: 0.1345\n",
      "Epoch 61/150\n",
      "78/78 [==============================] - 0s 3ms/step - loss: 0.1362 - mean_squared_error: 0.1362\n",
      "Epoch 62/150\n",
      "78/78 [==============================] - 0s 3ms/step - loss: 0.1413 - mean_squared_error: 0.1413\n",
      "Epoch 63/150\n",
      "78/78 [==============================] - 0s 3ms/step - loss: 0.1458 - mean_squared_error: 0.1458\n",
      "Epoch 64/150\n",
      "78/78 [==============================] - 0s 3ms/step - loss: 0.1406 - mean_squared_error: 0.1406\n",
      "Epoch 65/150\n",
      "78/78 [==============================] - 0s 3ms/step - loss: 0.1329 - mean_squared_error: 0.1329\n",
      "Epoch 66/150\n",
      "78/78 [==============================] - 0s 3ms/step - loss: 0.1399 - mean_squared_error: 0.1399\n",
      "Epoch 67/150\n",
      "78/78 [==============================] - 0s 3ms/step - loss: 0.1360 - mean_squared_error: 0.1360\n",
      "Epoch 68/150\n",
      "78/78 [==============================] - 0s 3ms/step - loss: 0.1331 - mean_squared_error: 0.1331\n",
      "Epoch 69/150\n",
      "78/78 [==============================] - 0s 3ms/step - loss: 0.1373 - mean_squared_error: 0.1373\n",
      "Epoch 70/150\n",
      "78/78 [==============================] - 0s 3ms/step - loss: 0.1412 - mean_squared_error: 0.1412\n",
      "Epoch 71/150\n",
      "78/78 [==============================] - 0s 3ms/step - loss: 0.1408 - mean_squared_error: 0.1408\n",
      "Epoch 72/150\n",
      "78/78 [==============================] - 0s 3ms/step - loss: 0.1335 - mean_squared_error: 0.1335\n",
      "Epoch 73/150\n",
      "78/78 [==============================] - 0s 3ms/step - loss: 0.1388 - mean_squared_error: 0.1388\n",
      "Epoch 74/150\n",
      "78/78 [==============================] - 0s 3ms/step - loss: 0.1413 - mean_squared_error: 0.1413\n",
      "Epoch 75/150\n"
     ]
    },
    {
     "name": "stdout",
     "output_type": "stream",
     "text": [
      "78/78 [==============================] - 0s 3ms/step - loss: 0.1346 - mean_squared_error: 0.1346\n",
      "Epoch 76/150\n",
      "78/78 [==============================] - 0s 3ms/step - loss: 0.1445 - mean_squared_error: 0.1445\n",
      "Epoch 77/150\n",
      "78/78 [==============================] - 0s 3ms/step - loss: 0.1460 - mean_squared_error: 0.1460\n",
      "Epoch 78/150\n",
      "78/78 [==============================] - 0s 3ms/step - loss: 0.1389 - mean_squared_error: 0.1389\n",
      "Epoch 79/150\n",
      "78/78 [==============================] - 0s 3ms/step - loss: 0.1446 - mean_squared_error: 0.1446\n",
      "Epoch 80/150\n",
      "78/78 [==============================] - 0s 3ms/step - loss: 0.1389 - mean_squared_error: 0.1389\n",
      "Epoch 81/150\n",
      "78/78 [==============================] - 0s 3ms/step - loss: 0.1455 - mean_squared_error: 0.1455\n",
      "Epoch 82/150\n",
      "78/78 [==============================] - 0s 3ms/step - loss: 0.1363 - mean_squared_error: 0.1363\n",
      "Epoch 83/150\n",
      "78/78 [==============================] - 0s 3ms/step - loss: 0.1377 - mean_squared_error: 0.1377\n",
      "Epoch 84/150\n",
      "78/78 [==============================] - 0s 3ms/step - loss: 0.1408 - mean_squared_error: 0.1408\n",
      "Epoch 85/150\n",
      "78/78 [==============================] - 0s 3ms/step - loss: 0.1408 - mean_squared_error: 0.1408\n",
      "Epoch 86/150\n",
      "78/78 [==============================] - 0s 3ms/step - loss: 0.1377 - mean_squared_error: 0.1377\n",
      "Epoch 87/150\n",
      "78/78 [==============================] - 0s 3ms/step - loss: 0.1394 - mean_squared_error: 0.1394: 0s - loss: 0.1326 - mean_squared_error\n",
      "Epoch 88/150\n",
      "78/78 [==============================] - 0s 3ms/step - loss: 0.1408 - mean_squared_error: 0.1408\n",
      "Epoch 89/150\n",
      "78/78 [==============================] - 0s 3ms/step - loss: 0.1386 - mean_squared_error: 0.1386\n",
      "Epoch 90/150\n",
      "78/78 [==============================] - 0s 3ms/step - loss: 0.1410 - mean_squared_error: 0.1410\n",
      "Epoch 91/150\n",
      "78/78 [==============================] - 0s 3ms/step - loss: 0.1396 - mean_squared_error: 0.1396\n",
      "Epoch 92/150\n",
      "78/78 [==============================] - 0s 3ms/step - loss: 0.1423 - mean_squared_error: 0.1423\n",
      "Epoch 93/150\n",
      "78/78 [==============================] - 0s 3ms/step - loss: 0.1418 - mean_squared_error: 0.1418\n",
      "Epoch 94/150\n",
      "78/78 [==============================] - 0s 3ms/step - loss: 0.1401 - mean_squared_error: 0.1401\n",
      "Epoch 95/150\n",
      "78/78 [==============================] - 0s 3ms/step - loss: 0.1340 - mean_squared_error: 0.1340\n",
      "Epoch 96/150\n",
      "78/78 [==============================] - 0s 3ms/step - loss: 0.1465 - mean_squared_error: 0.1465\n",
      "Epoch 97/150\n",
      "78/78 [==============================] - 0s 4ms/step - loss: 0.1415 - mean_squared_error: 0.1415\n",
      "Epoch 98/150\n",
      "78/78 [==============================] - 0s 3ms/step - loss: 0.1432 - mean_squared_error: 0.1432\n",
      "Epoch 99/150\n",
      "78/78 [==============================] - 0s 3ms/step - loss: 0.1429 - mean_squared_error: 0.1429\n",
      "Epoch 100/150\n",
      "78/78 [==============================] - 0s 3ms/step - loss: 0.1437 - mean_squared_error: 0.1437\n",
      "Epoch 101/150\n",
      "78/78 [==============================] - 0s 3ms/step - loss: 0.1424 - mean_squared_error: 0.1424\n",
      "Epoch 102/150\n",
      "78/78 [==============================] - 0s 3ms/step - loss: 0.1379 - mean_squared_error: 0.1379\n",
      "Epoch 103/150\n",
      "78/78 [==============================] - 0s 4ms/step - loss: 0.1357 - mean_squared_error: 0.1357\n",
      "Epoch 104/150\n",
      "78/78 [==============================] - 0s 3ms/step - loss: 0.1363 - mean_squared_error: 0.1363\n",
      "Epoch 105/150\n",
      "78/78 [==============================] - 0s 3ms/step - loss: 0.1356 - mean_squared_error: 0.1356\n",
      "Epoch 106/150\n",
      "78/78 [==============================] - 0s 3ms/step - loss: 0.1390 - mean_squared_error: 0.1390\n",
      "Epoch 107/150\n",
      "78/78 [==============================] - 0s 3ms/step - loss: 0.1384 - mean_squared_error: 0.1384\n",
      "Epoch 108/150\n",
      "78/78 [==============================] - 0s 3ms/step - loss: 0.1389 - mean_squared_error: 0.1389\n",
      "Epoch 109/150\n",
      "78/78 [==============================] - 0s 3ms/step - loss: 0.1338 - mean_squared_error: 0.1338\n",
      "Epoch 110/150\n",
      "78/78 [==============================] - 0s 3ms/step - loss: 0.1427 - mean_squared_error: 0.1427\n",
      "Epoch 111/150\n",
      "78/78 [==============================] - 0s 3ms/step - loss: 0.1532 - mean_squared_error: 0.1532\n",
      "Epoch 112/150\n",
      "78/78 [==============================] - 0s 3ms/step - loss: 0.1372 - mean_squared_error: 0.1372\n",
      "Epoch 113/150\n",
      "78/78 [==============================] - 0s 3ms/step - loss: 0.1435 - mean_squared_error: 0.1435\n",
      "Epoch 114/150\n",
      "78/78 [==============================] - 0s 3ms/step - loss: 0.1369 - mean_squared_error: 0.1369\n",
      "Epoch 115/150\n",
      "78/78 [==============================] - 0s 3ms/step - loss: 0.1364 - mean_squared_error: 0.1364\n",
      "Epoch 116/150\n",
      "78/78 [==============================] - 0s 3ms/step - loss: 0.1376 - mean_squared_error: 0.1376\n",
      "Epoch 117/150\n",
      "78/78 [==============================] - 0s 4ms/step - loss: 0.1432 - mean_squared_error: 0.1432\n",
      "Epoch 118/150\n",
      "78/78 [==============================] - 0s 3ms/step - loss: 0.1393 - mean_squared_error: 0.1393\n",
      "Epoch 119/150\n",
      "78/78 [==============================] - 0s 3ms/step - loss: 0.1478 - mean_squared_error: 0.1478\n",
      "Epoch 120/150\n",
      "78/78 [==============================] - 0s 3ms/step - loss: 0.1343 - mean_squared_error: 0.1343\n",
      "Epoch 121/150\n",
      "78/78 [==============================] - 0s 3ms/step - loss: 0.1340 - mean_squared_error: 0.1340\n",
      "Epoch 122/150\n",
      "78/78 [==============================] - 0s 3ms/step - loss: 0.1375 - mean_squared_error: 0.1375\n",
      "Epoch 123/150\n",
      "78/78 [==============================] - 0s 3ms/step - loss: 0.1435 - mean_squared_error: 0.1435\n",
      "Epoch 124/150\n",
      "78/78 [==============================] - 0s 3ms/step - loss: 0.1444 - mean_squared_error: 0.1444\n",
      "Epoch 125/150\n",
      "78/78 [==============================] - 0s 3ms/step - loss: 0.1396 - mean_squared_error: 0.1396\n",
      "Epoch 126/150\n",
      "78/78 [==============================] - 0s 3ms/step - loss: 0.1397 - mean_squared_error: 0.1397\n",
      "Epoch 127/150\n",
      "78/78 [==============================] - 0s 3ms/step - loss: 0.1392 - mean_squared_error: 0.1392\n",
      "Epoch 128/150\n",
      "78/78 [==============================] - 0s 3ms/step - loss: 0.1481 - mean_squared_error: 0.1481\n",
      "Epoch 129/150\n",
      "78/78 [==============================] - 0s 3ms/step - loss: 0.1331 - mean_squared_error: 0.1331\n",
      "Epoch 130/150\n",
      "78/78 [==============================] - 0s 3ms/step - loss: 0.1404 - mean_squared_error: 0.1404\n",
      "Epoch 131/150\n",
      "78/78 [==============================] - 0s 3ms/step - loss: 0.1337 - mean_squared_error: 0.1337\n",
      "Epoch 132/150\n",
      "78/78 [==============================] - 0s 3ms/step - loss: 0.1414 - mean_squared_error: 0.1414\n",
      "Epoch 133/150\n",
      "78/78 [==============================] - 0s 3ms/step - loss: 0.1476 - mean_squared_error: 0.1476\n",
      "Epoch 134/150\n",
      "78/78 [==============================] - 0s 3ms/step - loss: 0.1427 - mean_squared_error: 0.1427\n",
      "Epoch 135/150\n",
      "78/78 [==============================] - 0s 3ms/step - loss: 0.1400 - mean_squared_error: 0.1400\n",
      "Epoch 136/150\n",
      "78/78 [==============================] - 0s 3ms/step - loss: 0.1361 - mean_squared_error: 0.1361\n",
      "Epoch 137/150\n",
      "78/78 [==============================] - 0s 3ms/step - loss: 0.1392 - mean_squared_error: 0.1392\n",
      "Epoch 138/150\n",
      "78/78 [==============================] - 0s 3ms/step - loss: 0.1453 - mean_squared_error: 0.1453\n",
      "Epoch 139/150\n",
      "78/78 [==============================] - 0s 3ms/step - loss: 0.1400 - mean_squared_error: 0.1400\n",
      "Epoch 140/150\n",
      "78/78 [==============================] - 0s 3ms/step - loss: 0.1453 - mean_squared_error: 0.1453\n",
      "Epoch 141/150\n",
      "78/78 [==============================] - 0s 3ms/step - loss: 0.1330 - mean_squared_error: 0.1330\n",
      "Epoch 142/150\n",
      "78/78 [==============================] - 0s 3ms/step - loss: 0.1488 - mean_squared_error: 0.1488\n",
      "Epoch 143/150\n",
      "78/78 [==============================] - 0s 3ms/step - loss: 0.1411 - mean_squared_error: 0.1411\n",
      "Epoch 144/150\n",
      "78/78 [==============================] - 0s 3ms/step - loss: 0.1346 - mean_squared_error: 0.1346\n",
      "Epoch 145/150\n",
      "78/78 [==============================] - 0s 3ms/step - loss: 0.1470 - mean_squared_error: 0.1470\n",
      "Epoch 146/150\n",
      "78/78 [==============================] - 0s 3ms/step - loss: 0.1355 - mean_squared_error: 0.1355\n",
      "Epoch 147/150\n",
      "78/78 [==============================] - 0s 3ms/step - loss: 0.1472 - mean_squared_error: 0.1472\n",
      "Epoch 148/150\n"
     ]
    },
    {
     "name": "stdout",
     "output_type": "stream",
     "text": [
      "78/78 [==============================] - 0s 3ms/step - loss: 0.1382 - mean_squared_error: 0.1382\n",
      "Epoch 149/150\n",
      "78/78 [==============================] - 0s 3ms/step - loss: 0.1450 - mean_squared_error: 0.1450\n",
      "Epoch 150/150\n",
      "78/78 [==============================] - 0s 3ms/step - loss: 0.1355 - mean_squared_error: 0.1355\n",
      "2/2 [==============================] - 0s 19ms/step - loss: 0.1612 - mean_squared_error: 0.1612\n",
      "test loss, test mse: [0.16117793321609497, 0.16117793321609497]\n"
     ]
    }
   ],
   "source": [
    "# define the keras model for deep learning\n",
    "model = Sequential()\n",
    "model.add(Dense(5, input_dim=60456, activation='relu'))\n",
    "model.add(Dense(4, activation='relu'))\n",
    "model.add(Dense(1, activation='sigmoid'))\n",
    "\n",
    "# compile the keras model\n",
    "opt = keras.optimizers.Adam(learning_rate=0.01)\n",
    "model.compile(loss='mean_squared_error', optimizer=opt, metrics=['mean_squared_error'])\n",
    "# fit the keras model on the dataset\n",
    "model.fit(X_train, y_train, epochs=150, batch_size=10)\n",
    "\n",
    "# evaluate the keras model\n",
    "# _, mse = model.evaluate(X_test, y_test)\n",
    "# print('MSE: %.2f' % (mse*100))\n",
    "results = model.evaluate(X_test, y_test, batch_size=128)\n",
    "print(\"test loss, test mse:\", results)\n"
   ]
  },
  {
   "cell_type": "code",
   "execution_count": 8,
   "metadata": {},
   "outputs": [
    {
     "name": "stdout",
     "output_type": "stream",
     "text": [
      "MSE: 0.021936\n"
     ]
    }
   ],
   "source": [
    "# run the data on xgboost model\n",
    "data_dmatrix = xgb.DMatrix(data=X,label=y)\n",
    "\n",
    "# train xgb classifier\n",
    "xg_reg = xgb.XGBRegressor(objective ='reg:squarederror', colsample_bytree = 0.3, learning_rate = 0.1,\n",
    "                max_depth = 5, alpha = 10, n_estimators = 100)\n",
    "xg_reg.fit(X_train,y_train)\n",
    "\n",
    "preds = xg_reg.predict(X_test)\n",
    "\n",
    "mse = mean_squared_error(y_test, preds)\n",
    "print(\"MSE: %f\" % (mse))\n"
   ]
  },
  {
   "cell_type": "code",
   "execution_count": 61,
   "metadata": {},
   "outputs": [
    {
     "name": "stdout",
     "output_type": "stream",
     "text": [
      "[1.29603848e-02 7.68492611e-03 6.73325957e-03 ... 2.60343241e-33\n",
      " 2.17261859e-34 9.25565100e-37]\n"
     ]
    }
   ],
   "source": [
    "# considering applying dimensionality reduction\n",
    "# scaler = StandardScaler()\n",
    "# X_features = scaler.fit_transform(vectors2)\n",
    "\n",
    "# pca = PCA()\n",
    "# pca.fit_transform(X_features)\n",
    "# pca_variance = pca.explained_variance_\n",
    "# print(pca.explained_variance_ratio_)"
   ]
  },
  {
   "cell_type": "code",
   "execution_count": 9,
   "metadata": {},
   "outputs": [
    {
     "name": "stdout",
     "output_type": "stream",
     "text": [
      "MSE: 0.025889\n"
     ]
    }
   ],
   "source": [
    "from sklearn import svm\n",
    "regr = svm.SVR()\n",
    "regr.fit(X_train, y_train)\n",
    "preds = regr.predict(X_test)\n",
    "mse = mean_squared_error(y_test, preds)\n",
    "print(\"MSE: %f\" % (mse))"
   ]
  },
  {
   "cell_type": "code",
   "execution_count": 11,
   "metadata": {},
   "outputs": [
    {
     "name": "stdout",
     "output_type": "stream",
     "text": [
      "MSE: 0.016896\n"
     ]
    }
   ],
   "source": [
    "# Ridge Regression\n",
    "from sklearn.linear_model import Ridge\n",
    "clf = Ridge(alpha=1.0)\n",
    "clf.fit(X_train, y_train)\n",
    "preds = clf.predict(X_test)\n",
    "mse = mean_squared_error(y_test, preds)\n",
    "print(\"MSE: %f\" % (mse))"
   ]
  },
  {
   "cell_type": "code",
   "execution_count": null,
   "metadata": {},
   "outputs": [],
   "source": []
  }
 ],
 "metadata": {
  "kernelspec": {
   "display_name": "Python 3",
   "language": "python",
   "name": "python3"
  },
  "language_info": {
   "codemirror_mode": {
    "name": "ipython",
    "version": 3
   },
   "file_extension": ".py",
   "mimetype": "text/x-python",
   "name": "python",
   "nbconvert_exporter": "python",
   "pygments_lexer": "ipython3",
   "version": "3.8.5"
  }
 },
 "nbformat": 4,
 "nbformat_minor": 4
}
